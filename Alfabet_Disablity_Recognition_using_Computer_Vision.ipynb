{
  "nbformat": 4,
  "nbformat_minor": 0,
  "metadata": {
    "colab": {
      "name": "Alfabet Disablity Recognition using Computer Vision.ipynb",
      "provenance": [],
      "authorship_tag": "ABX9TyPGhsi0xrw3LH7xT13DHZsW",
      "include_colab_link": true
    },
    "kernelspec": {
      "name": "python3",
      "display_name": "Python 3"
    },
    "language_info": {
      "name": "python"
    }
  },
  "cells": [
    {
      "cell_type": "markdown",
      "metadata": {
        "id": "view-in-github",
        "colab_type": "text"
      },
      "source": [
        "<a href=\"https://colab.research.google.com/github/syahdannoor/Disability_4/blob/Syahdan/Alfabet_Disablity_Recognition_using_Computer_Vision.ipynb\" target=\"_parent\"><img src=\"https://colab.research.google.com/assets/colab-badge.svg\" alt=\"Open In Colab\"/></a>"
      ]
    },
    {
      "cell_type": "code",
      "execution_count": null,
      "metadata": {
        "id": "mkuhVNacub-2"
      },
      "outputs": [],
      "source": [
        ""
      ]
    }
  ]
}