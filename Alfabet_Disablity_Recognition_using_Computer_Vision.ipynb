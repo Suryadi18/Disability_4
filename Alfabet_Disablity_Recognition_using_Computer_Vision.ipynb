{
  "nbformat": 4,
  "nbformat_minor": 0,
  "metadata": {
    "colab": {
      "name": "Alfabet Disablity Recognition using Computer Vision.ipynb",
      "provenance": [],
      "authorship_tag": "ABX9TyPdcXG9W9gCheQTq4PNVmMb",
      "include_colab_link": true
    },
    "kernelspec": {
      "name": "python3",
      "display_name": "Python 3"
    },
    "language_info": {
      "name": "python"
    }
  },
  "cells": [
    {
      "cell_type": "markdown",
      "metadata": {
        "id": "view-in-github",
        "colab_type": "text"
      },
      "source": [
        "<a href=\"https://colab.research.google.com/github/syahdannoor/Disability_4/blob/Syahdan/Alfabet_Disablity_Recognition_using_Computer_Vision.ipynb\" target=\"_parent\"><img src=\"https://colab.research.google.com/assets/colab-badge.svg\" alt=\"Open In Colab\"/></a>"
      ]
    },
    {
      "cell_type": "markdown",
      "source": [
        "mount google drive"
      ],
      "metadata": {
        "id": "MW2cG9CmvOiU"
      }
    },
    {
      "cell_type": "code",
      "execution_count": 1,
      "metadata": {
        "id": "mkuhVNacub-2",
        "outputId": "0d0c543d-c790-4e29-949d-89413a4b5501",
        "colab": {
          "base_uri": "https://localhost:8080/"
        }
      },
      "outputs": [
        {
          "output_type": "stream",
          "name": "stdout",
          "text": [
            "Mounted at /content/gdrive\n"
          ]
        }
      ],
      "source": [
        "from google.colab import drive\n",
        "drive.mount('/content/gdrive')"
      ]
    },
    {
      "cell_type": "markdown",
      "source": [
        ""
      ],
      "metadata": {
        "id": "KDIxS1QCwOnU"
      }
    },
    {
      "cell_type": "code",
      "source": [
        "#dataset path:\n",
        "\n",
        "dataset_path = \"/content/gdrive/MyDrive/Dev/Google x Techready/Machine Learning with Tensorflow/Project Demo Day (Disability)/Dataset/Bahasa Isyarat Indo/Citra BISINDO/\"\n",
        "\n",
        "dataset_path"
      ],
      "metadata": {
        "id": "njZHIe53v02K",
        "outputId": "c317338d-2fe1-4805-f675-7074dd79ad0a",
        "colab": {
          "base_uri": "https://localhost:8080/",
          "height": 52
        }
      },
      "execution_count": 8,
      "outputs": [
        {
          "output_type": "execute_result",
          "data": {
            "text/plain": [
              "'/content/gdrive/MyDrive/Dev/Google x Techready/Machine Learning with Tensorflow/Project Demo Day (Disability)/Dataset/Bahasa Isyarat Indo/Citra BISINDO/'"
            ],
            "application/vnd.google.colaboratory.intrinsic+json": {
              "type": "string"
            }
          },
          "metadata": {},
          "execution_count": 8
        }
      ]
    },
    {
      "cell_type": "markdown",
      "source": [
        ""
      ],
      "metadata": {
        "id": "R-xuXt48zG94"
      }
    },
    {
      "cell_type": "code",
      "source": [
        ""
      ],
      "metadata": {
        "id": "TLeNiy5Qyj_o"
      },
      "execution_count": null,
      "outputs": []
    }
  ]
}